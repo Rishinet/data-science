{
 "cells": [
  {
   "cell_type": "code",
   "execution_count": 1,
   "metadata": {},
   "outputs": [
    {
     "data": {
      "text/plain": [
       "\"\\n1. What exactly is []?\\n\\nAnswer:\\n----------------------------------------------\\n\\nThe empty list value, which is a list value that contains no items. This is similar to how '' is the empty string value.\\n\\n\\n\""
      ]
     },
     "execution_count": 1,
     "metadata": {},
     "output_type": "execute_result"
    }
   ],
   "source": [
    "'''\n",
    "1. What exactly is []?\n",
    "\n",
    "Answer:\n",
    "----------------------------------------------\n",
    "\n",
    "The empty list value, which is a list value that contains no items. This is similar to how '' is the empty string value.\n",
    "\n",
    "\n",
    "'''"
   ]
  },
  {
   "cell_type": "code",
   "execution_count": 2,
   "metadata": {},
   "outputs": [
    {
     "data": {
      "text/plain": [
       "\"\\n2. In a list of values stored in a variable called spam, how would you assign \\nthe value 'hello' as the third value? (Assume [2, 4, 6, 8, 10] are in spam.)\\n\\nAnswer:\\n----------------------------------------------\\n\\nspam[2] = 'hello' (Notice that the third value in a list is at index 2 because the first index is 0.)\\n\\n\""
      ]
     },
     "execution_count": 2,
     "metadata": {},
     "output_type": "execute_result"
    }
   ],
   "source": [
    "'''\n",
    "2. In a list of values stored in a variable called spam, how would you assign \n",
    "the value 'hello' as the third value? (Assume [2, 4, 6, 8, 10] are in spam.)\n",
    "Let's pretend the spam includes the list ['a', 'b', 'c', 'd'] for the next three queries.\n",
    "\n",
    "Answer:\n",
    "----------------------------------------------\n",
    "\n",
    "spam[2] = 'hello' (Notice that the third value in a list is at index 2 because the first index is 0.)\n",
    "\n",
    "'''"
   ]
  },
  {
   "cell_type": "code",
   "execution_count": 3,
   "metadata": {},
   "outputs": [
    {
     "data": {
      "text/plain": [
       "\"\\n3. What is the value of spam[int(int('3' * 2) / 11)]?\\n\\nAnswer:\\n----------------------------------------------\\n\\n'd' (Note that '3' * 2 is the string '33', which is passed to int() before being divided by 11. \\nThis eventually evaluates to 3. Expressions can be used wherever values are used.)\\n\\n\""
      ]
     },
     "execution_count": 3,
     "metadata": {},
     "output_type": "execute_result"
    }
   ],
   "source": [
    "'''\n",
    "3. What is the value of spam[int(int('3' * 2) / 11)]?\n",
    "\n",
    "Answer:\n",
    "----------------------------------------------\n",
    "\n",
    "'d' (Note that '3' * 2 is the string '33', which is passed to int() before being divided by 11. \n",
    "This eventually evaluates to 3. Expressions can be used wherever values are used.)\n",
    "\n",
    "'''"
   ]
  },
  {
   "cell_type": "code",
   "execution_count": 4,
   "metadata": {},
   "outputs": [
    {
     "data": {
      "text/plain": [
       "\"\\n4. What is the value of spam[-1]?\\n\\nAnswer:\\n----------------------------------------------\\n\\n'd' (Negative indexes count from the end.)\\n\\n\""
      ]
     },
     "execution_count": 4,
     "metadata": {},
     "output_type": "execute_result"
    }
   ],
   "source": [
    "'''\n",
    "4. What is the value of spam[-1]?\n",
    "\n",
    "Answer:\n",
    "----------------------------------------------\n",
    "\n",
    "'d' (Negative indexes count from the end.)\n",
    "\n",
    "'''"
   ]
  },
  {
   "cell_type": "code",
   "execution_count": 5,
   "metadata": {},
   "outputs": [
    {
     "data": {
      "text/plain": [
       "\"\\n5. What is the value of spam[:2]?\\n\\nAnswer:\\n----------------------------------------------\\n\\n['a', 'b']\\n\\n\""
      ]
     },
     "execution_count": 5,
     "metadata": {},
     "output_type": "execute_result"
    }
   ],
   "source": [
    "'''\n",
    "5. What is the value of spam[:2]?\n",
    "\n",
    "Answer:\n",
    "----------------------------------------------\n",
    "\n",
    "['a', 'b']\n",
    "\n",
    "'''"
   ]
  },
  {
   "cell_type": "code",
   "execution_count": 6,
   "metadata": {},
   "outputs": [
    {
     "data": {
      "text/plain": [
       "\"\\nLet's pretend bacon has the list [3.14, 'cat,' 11, 'cat,' True] for the next three questions.\\n6. What is the value of bacon.index('cat')?\\n\\nAnswer:\\n----------------------------------------------\\n\\n1\\n\""
      ]
     },
     "execution_count": 6,
     "metadata": {},
     "output_type": "execute_result"
    }
   ],
   "source": [
    "'''\n",
    "Let's pretend bacon has the list [3.14, 'cat,' 11, 'cat,' True] for the next three questions.\n",
    "6. What is the value of bacon.index('cat')?\n",
    "\n",
    "Answer:\n",
    "----------------------------------------------\n",
    "\n",
    "1\n",
    "'''"
   ]
  },
  {
   "cell_type": "code",
   "execution_count": 7,
   "metadata": {},
   "outputs": [
    {
     "data": {
      "text/plain": [
       "\"\\n7. How does bacon.append(99) change the look of the list value in bacon?\\n\\nAnswer:\\n----------------------------------------------\\n[3.14, 'cat,' 11, 'cat,' True, 99]\\n\\n\""
      ]
     },
     "execution_count": 7,
     "metadata": {},
     "output_type": "execute_result"
    }
   ],
   "source": [
    "'''\n",
    "7. How does bacon.append(99) change the look of the list value in bacon?\n",
    "\n",
    "Answer:\n",
    "----------------------------------------------\n",
    "[3.14, 'cat,' 11, 'cat,' True, 99]\n",
    "\n",
    "'''"
   ]
  },
  {
   "cell_type": "code",
   "execution_count": 8,
   "metadata": {},
   "outputs": [
    {
     "data": {
      "text/plain": [
       "\"\\n8. How does bacon.remove('cat') change the look of the list in bacon?\\n\\nAnswer:\\n----------------------------------------------\\n\\n[3.14, 11, 'cat', True]\\n\\n\""
      ]
     },
     "execution_count": 8,
     "metadata": {},
     "output_type": "execute_result"
    }
   ],
   "source": [
    "'''\n",
    "8. How does bacon.remove('cat') change the look of the list in bacon?\n",
    "\n",
    "Answer:\n",
    "----------------------------------------------\n",
    "\n",
    "[3.14, 11, 'cat', True]\n",
    "\n",
    "'''"
   ]
  },
  {
   "cell_type": "code",
   "execution_count": 9,
   "metadata": {},
   "outputs": [
    {
     "data": {
      "text/plain": [
       "'\\n9. What are the list concatenation and list replication operators?\\n\\nAnswer:\\n----------------------------------------------\\n\\nThe operator for list concatenation is +, while the operator for replication is *. (This is the same as for strings.)\\n\\n'"
      ]
     },
     "execution_count": 9,
     "metadata": {},
     "output_type": "execute_result"
    }
   ],
   "source": [
    "'''\n",
    "9. What are the list concatenation and list replication operators?\n",
    "\n",
    "Answer:\n",
    "----------------------------------------------\n",
    "\n",
    "The operator for list concatenation is +, while the operator for replication is *. (This is the same as for strings.)\n",
    "\n",
    "'''"
   ]
  },
  {
   "cell_type": "code",
   "execution_count": 10,
   "metadata": {},
   "outputs": [
    {
     "data": {
      "text/plain": [
       "'\\n10. What is difference between the list methods append() and insert()?\\n\\nAnswer:\\n----------------------------------------------\\n\\nWhile append() will add values only to the end of a list, insert() can add them anywhere in the list.\\n\\n'"
      ]
     },
     "execution_count": 10,
     "metadata": {},
     "output_type": "execute_result"
    }
   ],
   "source": [
    "'''\n",
    "10. What is difference between the list methods append() and insert()?\n",
    "\n",
    "Answer:\n",
    "----------------------------------------------\n",
    "\n",
    "While append() will add values only to the end of a list, insert() can add them anywhere in the list.\n",
    "\n",
    "'''"
   ]
  },
  {
   "cell_type": "code",
   "execution_count": 11,
   "metadata": {},
   "outputs": [
    {
     "data": {
      "text/plain": [
       "'\\n11. What are the two methods for removing items from a list?\\n\\nAnswer:\\n----------------------------------------------\\n\\nThe del statement and the remove() list method are two ways to remove values from a list.\\n\\n'"
      ]
     },
     "execution_count": 11,
     "metadata": {},
     "output_type": "execute_result"
    }
   ],
   "source": [
    "'''\n",
    "11. What are the two methods for removing items from a list?\n",
    "\n",
    "Answer:\n",
    "----------------------------------------------\n",
    "\n",
    "The del statement and the remove() list method are two ways to remove values from a list.\n",
    "\n",
    "'''"
   ]
  },
  {
   "cell_type": "code",
   "execution_count": 12,
   "metadata": {},
   "outputs": [
    {
     "data": {
      "text/plain": [
       "'\\n12. Describe how list values and string values are identical.\\n\\nAnswer:\\n----------------------------------------------\\n\\nBoth lists and strings can be passed to len(), have indexes and slices, be used in for loops,\\nbe concatenated or replicated, and be used with the in and not in operators.\\n\\n'"
      ]
     },
     "execution_count": 12,
     "metadata": {},
     "output_type": "execute_result"
    }
   ],
   "source": [
    "'''\n",
    "12. Describe how list values and string values are identical.\n",
    "\n",
    "Answer:\n",
    "----------------------------------------------\n",
    "\n",
    "Both lists and strings can be passed to len(), have indexes and slices, be used in for loops,\n",
    "be concatenated or replicated, and be used with the in and not in operators.\n",
    "\n",
    "'''"
   ]
  },
  {
   "cell_type": "code",
   "execution_count": 13,
   "metadata": {},
   "outputs": [
    {
     "data": {
      "text/plain": [
       "\"\\n13. What's the difference between tuples and lists?\\n\\nAnswer:\\n----------------------------------------------\\nLists are mutable; they can have values added, removed, or changed. Tuples are immutable; \\nthey cannot be changed at all. Also, tuples are written using parentheses, ( and ), \\nwhile lists use the square brackets, [ and ].\\n\\n\""
      ]
     },
     "execution_count": 13,
     "metadata": {},
     "output_type": "execute_result"
    }
   ],
   "source": [
    "'''\n",
    "13. What's the difference between tuples and lists?\n",
    "\n",
    "Answer:\n",
    "----------------------------------------------\n",
    "Lists are mutable; they can have values added, removed, or changed. Tuples are immutable; \n",
    "they cannot be changed at all. Also, tuples are written using parentheses, ( and ), \n",
    "while lists use the square brackets, [ and ].\n",
    "\n",
    "'''"
   ]
  },
  {
   "cell_type": "code",
   "execution_count": 20,
   "metadata": {},
   "outputs": [
    {
     "data": {
      "text/plain": [
       "'\\n14. How do you type a tuple value that only contains the integer 42?\\n\\nAnswer:\\n----------------------------------------------\\n\\n(42,) (The trailing comma is mandatory.)\\n\\n'"
      ]
     },
     "execution_count": 20,
     "metadata": {},
     "output_type": "execute_result"
    }
   ],
   "source": [
    "'''\n",
    "14. How do you type a tuple value that only contains the integer 42?\n",
    "\n",
    "Answer:\n",
    "----------------------------------------------\n",
    "\n",
    "(42,) (The trailing comma is mandatory.)\n",
    "\n",
    "'''"
   ]
  },
  {
   "cell_type": "code",
   "execution_count": 21,
   "metadata": {},
   "outputs": [
    {
     "data": {
      "text/plain": [
       "\"\\n15. How do you get a list value's tuple form? How do you get a tuple value's list form?\\n\\nAnswer:\\n----------------------------------------------\\n\\nThe tuple() and list() functions, respectively\\n\\n\""
      ]
     },
     "execution_count": 21,
     "metadata": {},
     "output_type": "execute_result"
    }
   ],
   "source": [
    "'''\n",
    "15. How do you get a list value's tuple form? How do you get a tuple value's list form?\n",
    "\n",
    "Answer:\n",
    "----------------------------------------------\n",
    "\n",
    "The tuple() and list() functions, respectively\n",
    "\n",
    "'''"
   ]
  },
  {
   "cell_type": "code",
   "execution_count": 22,
   "metadata": {},
   "outputs": [
    {
     "data": {
      "text/plain": [
       "'\\n16. Variables that \"contain\" list values are not necessarily lists themselves. Instead, what do they contain?\\n\\nAnswer:\\n----------------------------------------------\\n\\nThey contain references to list values.\\n\\n'"
      ]
     },
     "execution_count": 22,
     "metadata": {},
     "output_type": "execute_result"
    }
   ],
   "source": [
    "'''\n",
    "16. Variables that \"contain\" list values are not necessarily lists themselves. Instead, what do they contain?\n",
    "\n",
    "Answer:\n",
    "----------------------------------------------\n",
    "\n",
    "They contain references to list values.\n",
    "\n",
    "'''"
   ]
  },
  {
   "cell_type": "code",
   "execution_count": 23,
   "metadata": {},
   "outputs": [
    {
     "data": {
      "text/plain": [
       "'\\n17. How do you distinguish between copy.copy() and copy.deepcopy()?\\n\\nAnswer:\\n----------------------------------------------\\n\\nThe copy.copy() function will do a shallow copy of a list, while the copy.deepcopy() \\nfunction will do a deep copy of a list. That is, only copy.deepcopy() will duplicate any lists inside the list.\\n\\n'"
      ]
     },
     "execution_count": 23,
     "metadata": {},
     "output_type": "execute_result"
    }
   ],
   "source": [
    "'''\n",
    "17. How do you distinguish between copy.copy() and copy.deepcopy()?\n",
    "\n",
    "Answer:\n",
    "----------------------------------------------\n",
    "\n",
    "The copy.copy() function will do a shallow copy of a list, while the copy.deepcopy() \n",
    "function will do a deep copy of a list. That is, only copy.deepcopy() will duplicate any lists inside the list.\n",
    "\n",
    "'''"
   ]
  },
  {
   "cell_type": "code",
   "execution_count": null,
   "metadata": {},
   "outputs": [],
   "source": []
  }
 ],
 "metadata": {
  "kernelspec": {
   "display_name": "Python 3",
   "language": "python",
   "name": "python3"
  },
  "language_info": {
   "codemirror_mode": {
    "name": "ipython",
    "version": 3
   },
   "file_extension": ".py",
   "mimetype": "text/x-python",
   "name": "python",
   "nbconvert_exporter": "python",
   "pygments_lexer": "ipython3",
   "version": "3.7.4"
  }
 },
 "nbformat": 4,
 "nbformat_minor": 2
}
