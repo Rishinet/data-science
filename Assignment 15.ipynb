{
 "cells": [
  {
   "cell_type": "code",
   "execution_count": 1,
   "metadata": {},
   "outputs": [
    {
     "data": {
      "text/plain": [
       "'\\n1.How many seconds are in an hour? Use the interactive interpreter as a calculator and multiply the number of seconds in a minute (60) by the number of minutes in an hour (also 60).\\nsol. 60 \\n\\n60 * 60 = 3600\\n\\n2. Assign the result from the previous task (seconds in an hour) to a variable called seconds_per_hour.\\n\\nseconds_per_hour = 3600\\n\\n3. How many seconds do you think there are in a day? Make use of the variables seconds per hour \\nand minutes per hour.\\n\\nseconds_per_hour * 24 = 86400\\nminutes_per_hour * 24 * 60 = 86400\\n\\n4. Calculate seconds per day again, but this time save the result in a variable called seconds_per_day\\n\\nseconds_per_day = seconds_per_hour * 24\\nseconds_per_day\\n\\n5. Divide seconds_per_day by seconds_per_hour. Use floating-point (/) division.\\n\\nseconds_per_day / seconds_per_hour\\n24.0\\n\\n6. Divide seconds_per_day by seconds_per_hour, using integer (//) division. \\nDid this number agree with the floating-point value from the previous question, aside from the final .0?\\n\\nseconds_per_day // seconds_per_hour\\n24\\n\\n7. Write a generator, genPrimes, that returns the sequence of prime numbers on successive calls \\nto its next() method: 2, 3, 5, 7, 11, ...\\n\\ndef genPrimes():\\n    primes = []\\n    n = 2\\n    last = n\\n\\n    while True:\\n        for i in primes:\\n            if n % i == 0:\\n                n += 1\\n                break\\n\\n        else:\\n            primes.append(n)\\n            last = n\\n            n += 1\\n            yield last\\n\\n\\n'"
      ]
     },
     "execution_count": 1,
     "metadata": {},
     "output_type": "execute_result"
    }
   ],
   "source": [
    "'''\n",
    "1.How many seconds are in an hour? Use the interactive interpreter as a calculator and multiply the number of seconds in a minute (60) by the number of minutes in an hour (also 60).\n",
    "sol. 60 \n",
    "\n",
    "60 * 60 = 3600\n",
    "\n",
    "2. Assign the result from the previous task (seconds in an hour) to a variable called seconds_per_hour.\n",
    "\n",
    "seconds_per_hour = 3600\n",
    "\n",
    "3. How many seconds do you think there are in a day? Make use of the variables seconds per hour \n",
    "and minutes per hour.\n",
    "\n",
    "seconds_per_hour * 24 = 86400\n",
    "minutes_per_hour * 24 * 60 = 86400\n",
    "\n",
    "4. Calculate seconds per day again, but this time save the result in a variable called seconds_per_day\n",
    "\n",
    "seconds_per_day = seconds_per_hour * 24\n",
    "seconds_per_day\n",
    "\n",
    "5. Divide seconds_per_day by seconds_per_hour. Use floating-point (/) division.\n",
    "\n",
    "seconds_per_day / seconds_per_hour\n",
    "24.0\n",
    "\n",
    "6. Divide seconds_per_day by seconds_per_hour, using integer (//) division. \n",
    "Did this number agree with the floating-point value from the previous question, aside from the final .0?\n",
    "\n",
    "seconds_per_day // seconds_per_hour\n",
    "24\n",
    "\n",
    "7. Write a generator, genPrimes, that returns the sequence of prime numbers on successive calls \n",
    "to its next() method: 2, 3, 5, 7, 11, ...\n",
    "\n",
    "def genPrimes():\n",
    "    primes = []\n",
    "    n = 2\n",
    "    last = n\n",
    "\n",
    "    while True:\n",
    "        for i in primes:\n",
    "            if n % i == 0:\n",
    "                n += 1\n",
    "                break\n",
    "\n",
    "        else:\n",
    "            primes.append(n)\n",
    "            last = n\n",
    "            n += 1\n",
    "            yield last\n",
    "\n",
    "\n",
    "'''"
   ]
  },
  {
   "cell_type": "code",
   "execution_count": null,
   "metadata": {},
   "outputs": [],
   "source": []
  }
 ],
 "metadata": {
  "kernelspec": {
   "display_name": "Python 3",
   "language": "python",
   "name": "python3"
  },
  "language_info": {
   "codemirror_mode": {
    "name": "ipython",
    "version": 3
   },
   "file_extension": ".py",
   "mimetype": "text/x-python",
   "name": "python",
   "nbconvert_exporter": "python",
   "pygments_lexer": "ipython3",
   "version": "3.7.4"
  }
 },
 "nbformat": 4,
 "nbformat_minor": 2
}
