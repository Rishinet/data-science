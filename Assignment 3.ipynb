{
 "cells": [
  {
   "cell_type": "code",
   "execution_count": 1,
   "metadata": {},
   "outputs": [
    {
     "data": {
      "text/plain": [
       "'\\n1. Why are functions advantageous to have in your programs?\\n\\nAnswer:\\n---------------------------------------------------------\\n\\nFunctions reduce the need for duplicate code. \\nThis makes programs shorter, easier to read, and easier to update.\\n\\n'"
      ]
     },
     "execution_count": 1,
     "metadata": {},
     "output_type": "execute_result"
    }
   ],
   "source": [
    "'''\n",
    "1. Why are functions advantageous to have in your programs?\n",
    "\n",
    "Answer:\n",
    "---------------------------------------------------------\n",
    "\n",
    "Functions reduce the need for duplicate code. \n",
    "This makes programs shorter, easier to read, and easier to update.\n",
    "\n",
    "'''"
   ]
  },
  {
   "cell_type": "code",
   "execution_count": 2,
   "metadata": {},
   "outputs": [
    {
     "data": {
      "text/plain": [
       "\"\\n2. When does the code in a function run: when it's specified or when it's called?\\n\\nAnswer:\\n---------------------------------------------------------\\n\\nThe code in a function executes when the function is called, not when the function is defined.\\n\\n\""
      ]
     },
     "execution_count": 2,
     "metadata": {},
     "output_type": "execute_result"
    }
   ],
   "source": [
    "'''\n",
    "2. When does the code in a function run: when it's specified or when it's called?\n",
    "\n",
    "Answer:\n",
    "---------------------------------------------------------\n",
    "\n",
    "The code in a function executes when the function is called, not when the function is defined.\n",
    "\n",
    "'''"
   ]
  },
  {
   "cell_type": "code",
   "execution_count": 3,
   "metadata": {},
   "outputs": [
    {
     "data": {
      "text/plain": [
       "'\\n3. What statement creates a function?\\n\\nAnswer:\\n---------------------------------------------------------\\n\\nThe def statement defines (that is, creates) a function.\\n\\n'"
      ]
     },
     "execution_count": 3,
     "metadata": {},
     "output_type": "execute_result"
    }
   ],
   "source": [
    "'''\n",
    "3. What statement creates a function?\n",
    "\n",
    "Answer:\n",
    "---------------------------------------------------------\n",
    "\n",
    "The def statement defines (that is, creates) a function.\n",
    "\n",
    "'''"
   ]
  },
  {
   "cell_type": "code",
   "execution_count": 4,
   "metadata": {},
   "outputs": [
    {
     "data": {
      "text/plain": [
       "\"\\n4. What is the difference between a function and a function call?\\n\\nAnswer:\\n---------------------------------------------------------\\n\\nA function consists of the def statement and the code in its def clause.\\nA function call is what moves the program execution into the function, \\nand the function call evaluates to the function's return value.\\n\\n\""
      ]
     },
     "execution_count": 4,
     "metadata": {},
     "output_type": "execute_result"
    }
   ],
   "source": [
    "'''\n",
    "4. What is the difference between a function and a function call?\n",
    "\n",
    "Answer:\n",
    "---------------------------------------------------------\n",
    "\n",
    "A function consists of the def statement and the code in its def clause.\n",
    "A function call is what moves the program execution into the function, \n",
    "and the function call evaluates to the function's return value.\n",
    "\n",
    "'''"
   ]
  },
  {
   "cell_type": "code",
   "execution_count": 5,
   "metadata": {},
   "outputs": [
    {
     "data": {
      "text/plain": [
       "'\\n5. How many global scopes are there in a Python program? How many local scopes?\\n\\nAnswer:\\n---------------------------------------------------------\\n\\nThere is one global scope, and a local scope is created whenever a function is called.\\n\\n'"
      ]
     },
     "execution_count": 5,
     "metadata": {},
     "output_type": "execute_result"
    }
   ],
   "source": [
    "'''\n",
    "5. How many global scopes are there in a Python program? How many local scopes?\n",
    "\n",
    "Answer:\n",
    "---------------------------------------------------------\n",
    "\n",
    "There is one global scope, and a local scope is created whenever a function is called.\n",
    "\n",
    "'''"
   ]
  },
  {
   "cell_type": "code",
   "execution_count": 6,
   "metadata": {},
   "outputs": [
    {
     "data": {
      "text/plain": [
       "'\\n6. What happens to variables in a local scope when the function call returns?\\n\\nAnswer:\\n---------------------------------------------------------\\n\\nWhen a function returns, the local scope is destroyed, and all the variables in it are forgotten.\\n\\n'"
      ]
     },
     "execution_count": 6,
     "metadata": {},
     "output_type": "execute_result"
    }
   ],
   "source": [
    "'''\n",
    "6. What happens to variables in a local scope when the function call returns?\n",
    "\n",
    "Answer:\n",
    "---------------------------------------------------------\n",
    "\n",
    "When a function returns, the local scope is destroyed, and all the variables in it are forgotten.\n",
    "\n",
    "'''"
   ]
  },
  {
   "cell_type": "code",
   "execution_count": 7,
   "metadata": {},
   "outputs": [
    {
     "data": {
      "text/plain": [
       "'\\n7. What is the concept of a return value? Is it possible to have a return value in an expression?\\n\\nAnswer:\\n---------------------------------------------------------\\n\\nA return value is the value that a function call evaluates to. \\nLike any value, a return value can be used as part of an expression.\\n\\n'"
      ]
     },
     "execution_count": 7,
     "metadata": {},
     "output_type": "execute_result"
    }
   ],
   "source": [
    "'''\n",
    "7. What is the concept of a return value? Is it possible to have a return value in an expression?\n",
    "\n",
    "Answer:\n",
    "---------------------------------------------------------\n",
    "\n",
    "A return value is the value that a function call evaluates to. \n",
    "Like any value, a return value can be used as part of an expression.\n",
    "\n",
    "'''"
   ]
  },
  {
   "cell_type": "code",
   "execution_count": 8,
   "metadata": {},
   "outputs": [
    {
     "data": {
      "text/plain": [
       "'\\n8. If a function does not have a return statement, what is the return value of a call to that function?\\n\\nAnswer:\\n---------------------------------------------------------\\n\\nIf there is no return statement for a function, its return value is None./\\n\\n'"
      ]
     },
     "execution_count": 8,
     "metadata": {},
     "output_type": "execute_result"
    }
   ],
   "source": [
    "'''\n",
    "8. If a function does not have a return statement, what is the return value of a call to that function?\n",
    "\n",
    "Answer:\n",
    "---------------------------------------------------------\n",
    "\n",
    "If there is no return statement for a function, its return value is None./\n",
    "\n",
    "'''"
   ]
  },
  {
   "cell_type": "code",
   "execution_count": 9,
   "metadata": {},
   "outputs": [
    {
     "data": {
      "text/plain": [
       "'\\n9. How do you make a function variable refer to the global variable?\\n\\nAnswer:\\n---------------------------------------------------------\\n\\nIf you want to refer to a global variable in a function, \\nyou can use the global keyword to declare which variables are global. \\n\\n'"
      ]
     },
     "execution_count": 9,
     "metadata": {},
     "output_type": "execute_result"
    }
   ],
   "source": [
    "'''\n",
    "9. How do you make a function variable refer to the global variable?\n",
    "\n",
    "Answer:\n",
    "---------------------------------------------------------\n",
    "\n",
    "If you want to refer to a global variable in a function, \n",
    "you can use the global keyword to declare which variables are global. \n",
    "\n",
    "'''"
   ]
  },
  {
   "cell_type": "code",
   "execution_count": 10,
   "metadata": {},
   "outputs": [
    {
     "data": {
      "text/plain": [
       "'\\n10. What is the data type of None?\\n\\nAnswer:\\n---------------------------------------------------------\\n\\nNone is a data type of its own (NoneType) and only None can be None.\\n\\n'"
      ]
     },
     "execution_count": 10,
     "metadata": {},
     "output_type": "execute_result"
    }
   ],
   "source": [
    "'''\n",
    "10. What is the data type of None?\n",
    "\n",
    "Answer:\n",
    "---------------------------------------------------------\n",
    "\n",
    "None is a data type of its own (NoneType) and only None can be None.\n",
    "\n",
    "'''"
   ]
  },
  {
   "cell_type": "code",
   "execution_count": 11,
   "metadata": {},
   "outputs": [
    {
     "data": {
      "text/plain": [
       "'\\n11. What does the sentence import areallyourpetsnamederic do?\\n\\nAnswer:\\n---------------------------------------------------------\\n\\nThat import statement imports a module named areallyourpetsnamederic. (This isn’t a real Python module, by the way.)\\n\\n'"
      ]
     },
     "execution_count": 11,
     "metadata": {},
     "output_type": "execute_result"
    }
   ],
   "source": [
    "'''\n",
    "11. What does the sentence import areallyourpetsnamederic do?\n",
    "\n",
    "Answer:\n",
    "---------------------------------------------------------\n",
    "\n",
    "That import statement imports a module named areallyourpetsnamederic. (This isn’t a real Python module, by the way.)\n",
    "\n",
    "'''"
   ]
  },
  {
   "cell_type": "code",
   "execution_count": 12,
   "metadata": {},
   "outputs": [
    {
     "data": {
      "text/plain": [
       "'\\n12. If you had a bacon() feature in a spam module, what would you call it after importing spam?\\n\\nAnswer:\\n---------------------------------------------------------\\n\\nThis function can be called with spam.bacon().\\n\\n'"
      ]
     },
     "execution_count": 12,
     "metadata": {},
     "output_type": "execute_result"
    }
   ],
   "source": [
    "'''\n",
    "12. If you had a bacon() feature in a spam module, what would you call it after importing spam?\n",
    "\n",
    "Answer:\n",
    "---------------------------------------------------------\n",
    "\n",
    "This function can be called with spam.bacon().\n",
    "\n",
    "'''"
   ]
  },
  {
   "cell_type": "code",
   "execution_count": 13,
   "metadata": {},
   "outputs": [
    {
     "data": {
      "text/plain": [
       "'\\n13. What can you do to save a programme from crashing if it encounters an error?\\n\\nAnswer:\\n---------------------------------------------------------\\n\\nPlace the line of code that might cause an error in a try clause.\\n\\n'"
      ]
     },
     "execution_count": 13,
     "metadata": {},
     "output_type": "execute_result"
    }
   ],
   "source": [
    "'''\n",
    "13. What can you do to save a programme from crashing if it encounters an error?\n",
    "\n",
    "Answer:\n",
    "---------------------------------------------------------\n",
    "\n",
    "Place the line of code that might cause an error in a try clause.\n",
    "\n",
    "'''"
   ]
  },
  {
   "cell_type": "code",
   "execution_count": 14,
   "metadata": {},
   "outputs": [
    {
     "data": {
      "text/plain": [
       "'\\n14. What is the purpose of the try clause? What is the purpose of the except clause?\\n\\nAnswer:\\n---------------------------------------------------------\\n\\nThe code that could potentially cause an error goes in the try clause.\\nThe code that executes if an error happens goes in the except clause.\\n\\n'"
      ]
     },
     "execution_count": 14,
     "metadata": {},
     "output_type": "execute_result"
    }
   ],
   "source": [
    "'''\n",
    "14. What is the purpose of the try clause? What is the purpose of the except clause?\n",
    "\n",
    "Answer:\n",
    "---------------------------------------------------------\n",
    "\n",
    "The code that could potentially cause an error goes in the try clause.\n",
    "The code that executes if an error happens goes in the except clause.\n",
    "\n",
    "'''"
   ]
  },
  {
   "cell_type": "code",
   "execution_count": null,
   "metadata": {},
   "outputs": [],
   "source": []
  }
 ],
 "metadata": {
  "kernelspec": {
   "display_name": "Python 3",
   "language": "python",
   "name": "python3"
  },
  "language_info": {
   "codemirror_mode": {
    "name": "ipython",
    "version": 3
   },
   "file_extension": ".py",
   "mimetype": "text/x-python",
   "name": "python",
   "nbconvert_exporter": "python",
   "pygments_lexer": "ipython3",
   "version": "3.7.4"
  }
 },
 "nbformat": 4,
 "nbformat_minor": 2
}
