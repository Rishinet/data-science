{
 "cells": [
  {
   "cell_type": "code",
   "execution_count": 1,
   "metadata": {},
   "outputs": [
    {
     "data": {
      "text/plain": [
       "\"\\n1. Create an assert statement that throws an AssertionError if the variable \\nspam is a negative integer.\\n\\nassert spam >= 10, 'The spam variable is less than 10.'\\n\\n2. Write an assert statement that triggers an AssertionError if the variables \\neggs and bacon contain strings that are the same as each other, even \\nif their cases are different (that is, 'hello' and 'hello' are considered \\nthe same, and 'goodbye' and 'GOODbye' are also considered the same).\\n\\nEither assert eggs.lower() != bacon.lower() 'The eggs and bacon variables \\nare the same!' or assert eggs.upper() != bacon.upper(), 'The eggs and \\nbacon variables are the same!'\\n\\n3. Create an assert statement that throws an AssertionError every time.\\n\\nassert False, 'This assertion always triggers.'\\n\\n4. What are the two lines that must be present in your software in order to call logging.debug()?\\n\\nTo be able to call logging.debug(), you must have these two lines at the start of your program:\\nimport logging\\nlogging.basicConfig(level=logging.DEBUG, format=' %(asctime)s - %(levelname)s -  %(message)s')\\n\\n5. What are the two lines that your program must have in order to have logging.debug() \\nsend a logging message to a file named programLog.txt?\\n\\nTo be able to send logging messages to a file named programLog.txt with logging.debug(), you must have these two lines at the start of your program:\\nimport logging\\nlogging.basicConfig(filename='programLog.txt', level=logging.DEBUG, \\nformat=' %(asctime)s -  %(levelname)s -  %(message)s')\\n\\n6. What are the five levels of logging?\\n\\nDEBUG, INFO, WARNING, ERROR, and CRITICAL\\n\\n7. What line of code would you add to your software to disable all logging messages?\\n\\nlogging.disable(logging.CRITICAL)\\n\\n8.Why is using logging messages better than using print() to display the same message?\\n\\nYou can disable logging messages without removing the logging function calls. \\nYou can selectively disable lower-level logging messages. You can create logging messages. Logging messages provides a timestamp.\\n\\n9. What are the differences between the Step Over, Step In, and Step Out buttons in the debugger?\\n\\nThe Step In button will move the debugger into a function call. \\nThe Step Over button will quickly execute the function call without stepping into it. \\nThe Step Out button will quickly execute the rest of the code until it steps out of the function it currently is in.\\n\\n10.After you click Continue, when will the debugger stop ?\\n\\nAfter you click Continue, the debugger will stop when it has reached the end of \\nthe program or a line with a breakpoint.\\n\\n11. What is the concept of a breakpoint?\\n\\nA breakpoint is a setting on a line of code that causes the debugger to pause when \\nthe program execution reaches the line.\\n\\n\\n\""
      ]
     },
     "execution_count": 1,
     "metadata": {},
     "output_type": "execute_result"
    }
   ],
   "source": [
    "'''\n",
    "1. Create an assert statement that throws an AssertionError if the variable \n",
    "spam is a negative integer.\n",
    "\n",
    "assert spam >= 10, 'The spam variable is less than 10.'\n",
    "\n",
    "2. Write an assert statement that triggers an AssertionError if the variables \n",
    "eggs and bacon contain strings that are the same as each other, even \n",
    "if their cases are different (that is, 'hello' and 'hello' are considered \n",
    "the same, and 'goodbye' and 'GOODbye' are also considered the same).\n",
    "\n",
    "Either assert eggs.lower() != bacon.lower() 'The eggs and bacon variables \n",
    "are the same!' or assert eggs.upper() != bacon.upper(), 'The eggs and \n",
    "bacon variables are the same!'\n",
    "\n",
    "3. Create an assert statement that throws an AssertionError every time.\n",
    "\n",
    "assert False, 'This assertion always triggers.'\n",
    "\n",
    "4. What are the two lines that must be present in your software in order to call logging.debug()?\n",
    "\n",
    "To be able to call logging.debug(), you must have these two lines at the start of your program:\n",
    "import logging\n",
    "logging.basicConfig(level=logging.DEBUG, format=' %(asctime)s - %(levelname)s -  %(message)s')\n",
    "\n",
    "5. What are the two lines that your program must have in order to have logging.debug() \n",
    "send a logging message to a file named programLog.txt?\n",
    "\n",
    "To be able to send logging messages to a file named programLog.txt with logging.debug(), you must have these two lines at the start of your program:\n",
    "import logging\n",
    "logging.basicConfig(filename='programLog.txt', level=logging.DEBUG, \n",
    "format=' %(asctime)s -  %(levelname)s -  %(message)s')\n",
    "\n",
    "6. What are the five levels of logging?\n",
    "\n",
    "DEBUG, INFO, WARNING, ERROR, and CRITICAL\n",
    "\n",
    "7. What line of code would you add to your software to disable all logging messages?\n",
    "\n",
    "logging.disable(logging.CRITICAL)\n",
    "\n",
    "8.Why is using logging messages better than using print() to display the same message?\n",
    "\n",
    "You can disable logging messages without removing the logging function calls. \n",
    "You can selectively disable lower-level logging messages. You can create logging messages. Logging messages provides a timestamp.\n",
    "\n",
    "9. What are the differences between the Step Over, Step In, and Step Out buttons in the debugger?\n",
    "\n",
    "The Step In button will move the debugger into a function call. \n",
    "The Step Over button will quickly execute the function call without stepping into it. \n",
    "The Step Out button will quickly execute the rest of the code until it steps out of the function it currently is in.\n",
    "\n",
    "10.After you click Continue, when will the debugger stop ?\n",
    "\n",
    "After you click Continue, the debugger will stop when it has reached the end of \n",
    "the program or a line with a breakpoint.\n",
    "\n",
    "11. What is the concept of a breakpoint?\n",
    "\n",
    "A breakpoint is a setting on a line of code that causes the debugger to pause when \n",
    "the program execution reaches the line.\n",
    "\n",
    "\n",
    "'''"
   ]
  },
  {
   "cell_type": "code",
   "execution_count": null,
   "metadata": {},
   "outputs": [],
   "source": []
  }
 ],
 "metadata": {
  "kernelspec": {
   "display_name": "Python 3",
   "language": "python",
   "name": "python3"
  },
  "language_info": {
   "codemirror_mode": {
    "name": "ipython",
    "version": 3
   },
   "file_extension": ".py",
   "mimetype": "text/x-python",
   "name": "python",
   "nbconvert_exporter": "python",
   "pygments_lexer": "ipython3",
   "version": "3.7.4"
  }
 },
 "nbformat": 4,
 "nbformat_minor": 2
}
