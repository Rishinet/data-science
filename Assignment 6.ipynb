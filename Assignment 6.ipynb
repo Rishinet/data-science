{
 "cells": [
  {
   "cell_type": "code",
   "execution_count": 1,
   "metadata": {},
   "outputs": [
    {
     "data": {
      "text/plain": [
       "'\\n1. What are escape characters, and how do you use them?\\n\\nAnswer:\\n---------------------------------------\\n\\nEscape characters represent characters in string values that would otherwise be difficult or impossible to type into code.\\n\\n'"
      ]
     },
     "execution_count": 1,
     "metadata": {},
     "output_type": "execute_result"
    }
   ],
   "source": [
    "'''\n",
    "1. What are escape characters, and how do you use them?\n",
    "\n",
    "Answer:\n",
    "---------------------------------------\n",
    "\n",
    "Escape characters represent characters in string values that would otherwise be difficult or impossible to type into code.\n",
    "\n",
    "'''"
   ]
  },
  {
   "cell_type": "code",
   "execution_count": 2,
   "metadata": {},
   "outputs": [
    {
     "data": {
      "text/plain": [
       "'\\n2. What do the escape characters n and t stand for?\\n\\nAnswer:\\n---------------------------------------\\n\\n\\n is a newline; \\t is a tab.\\n\\n'"
      ]
     },
     "execution_count": 2,
     "metadata": {},
     "output_type": "execute_result"
    }
   ],
   "source": [
    "'''\n",
    "2. What do the escape characters n and t stand for?\n",
    "\n",
    "Answer:\n",
    "---------------------------------------\n",
    "\n",
    "\\n is a newline; \\t is a tab.\n",
    "\n",
    "'''"
   ]
  },
  {
   "cell_type": "code",
   "execution_count": 3,
   "metadata": {},
   "outputs": [
    {
     "data": {
      "text/plain": [
       "'\\n3. What is the way to include backslash characters in a string?\\n\\nAnswer:\\n---------------------------------------\\n\\nThe \\\\ escape character will represent a backslash character.\\n\\n'"
      ]
     },
     "execution_count": 3,
     "metadata": {},
     "output_type": "execute_result"
    }
   ],
   "source": [
    "'''\n",
    "3. What is the way to include backslash characters in a string?\n",
    "\n",
    "Answer:\n",
    "---------------------------------------\n",
    "\n",
    "The \\\\ escape character will represent a backslash character.\n",
    "\n",
    "'''"
   ]
  },
  {
   "cell_type": "code",
   "execution_count": 4,
   "metadata": {},
   "outputs": [
    {
     "data": {
      "text/plain": [
       "'\\n4. The string \"Howl\\'s Moving Castle\" is a correct value. \\nWhy isn\\'t the single quote character in the word Howl\\'s not escaped a problem?\\n\\nAnswer:\\n---------------------------------------\\n\\nThe single quote in Howl\\'s is fine because you’ve used double quotes to mark the beginning and end of the string.\\n\\n'"
      ]
     },
     "execution_count": 4,
     "metadata": {},
     "output_type": "execute_result"
    }
   ],
   "source": [
    "'''\n",
    "4. The string \"Howl's Moving Castle\" is a correct value. \n",
    "Why isn't the single quote character in the word Howl's not escaped a problem?\n",
    "\n",
    "Answer:\n",
    "---------------------------------------\n",
    "\n",
    "The single quote in Howl's is fine because you’ve used double quotes to mark the beginning and end of the string.\n",
    "\n",
    "'''"
   ]
  },
  {
   "cell_type": "code",
   "execution_count": 5,
   "metadata": {},
   "outputs": [
    {
     "data": {
      "text/plain": [
       "\"\\n5. How do you write a string of newlines if you don't want to use the n character?\\n\\nAnswer:\\n---------------------------------------\\n\\nMultiline strings allow you to use newlines in strings without the \\n escape character.\\n\\n\""
      ]
     },
     "execution_count": 5,
     "metadata": {},
     "output_type": "execute_result"
    }
   ],
   "source": [
    "'''\n",
    "5. How do you write a string of newlines if you don't want to use the n character?\n",
    "\n",
    "Answer:\n",
    "---------------------------------------\n",
    "\n",
    "Multiline strings allow you to use newlines in strings without the \\n escape character.\n",
    "\n",
    "'''"
   ]
  },
  {
   "cell_type": "code",
   "execution_count": 11,
   "metadata": {},
   "outputs": [
    {
     "data": {
      "text/plain": [
       "\"\\n6. What are the values of the given expressions?\\n'Hello, world!'[1]\\n'Hello, world!'[0:5]\\n'Hello, world!'[:5]\\n'Hello, world!'[3:]\\n\\nAnswer:\\n---------------------------------------\\n#'Hello, world!'[1] >> 'e'\\n#'Hello, world!'[0:5] >>'Hello'\\n#'Hello, world!'[:5] >>'Hello'\\n#'Hello, world!'[3:] >>'lo, world!'\\n\\n\""
      ]
     },
     "execution_count": 11,
     "metadata": {},
     "output_type": "execute_result"
    }
   ],
   "source": [
    "'''\n",
    "6. What are the values of the given expressions?\n",
    "'Hello, world!'[1]\n",
    "'Hello, world!'[0:5]\n",
    "'Hello, world!'[:5]\n",
    "'Hello, world!'[3:]\n",
    "\n",
    "Answer:\n",
    "---------------------------------------\n",
    "#'Hello, world!'[1] >> 'e'\n",
    "#'Hello, world!'[0:5] >>'Hello'\n",
    "#'Hello, world!'[:5] >>'Hello'\n",
    "#'Hello, world!'[3:] >>'lo, world!'\n",
    "\n",
    "'''"
   ]
  },
  {
   "cell_type": "code",
   "execution_count": 17,
   "metadata": {},
   "outputs": [
    {
     "data": {
      "text/plain": [
       "\"\\n7. What are the values of the following expressions?\\n'Hello'.upper()\\n'Hello'.upper().isupper()\\n'Hello'.upper().lower()\\n\\nAnswer:\\n---------------------------------------\\n\\n#'Hello'.upper() >> 'HELLO'\\n#'Hello'.upper().isupper() >> True\\n#'Hello'.upper().lower() >>'hello'\\n\\n\""
      ]
     },
     "execution_count": 17,
     "metadata": {},
     "output_type": "execute_result"
    }
   ],
   "source": [
    "'''\n",
    "7. What are the values of the following expressions?\n",
    "'Hello'.upper()\n",
    "'Hello'.upper().isupper()\n",
    "'Hello'.upper().lower()\n",
    "\n",
    "Answer:\n",
    "---------------------------------------\n",
    "\n",
    "#'Hello'.upper() >> 'HELLO'\n",
    "#'Hello'.upper().isupper() >> True\n",
    "#'Hello'.upper().lower() >>'hello'\n",
    "\n",
    "'''"
   ]
  },
  {
   "cell_type": "code",
   "execution_count": 22,
   "metadata": {},
   "outputs": [
    {
     "data": {
      "text/plain": [
       "\"\\n8. What are the values of the following expressions?\\n'Remember, remember, the fifth of July.'.split()\\n'-'.join('There can only one.'.split())\\n\\nAnswer:\\n---------------------------------------\\n\\n#'Remember, remember, the fifth of July.'.split() >> ['Remember,', 'remember,', 'the', 'fifth', 'of', 'July.']\\n#'-'.join('There can only one.'.split()) >> 'There-can-only-one.'\\n\\n\""
      ]
     },
     "execution_count": 22,
     "metadata": {},
     "output_type": "execute_result"
    }
   ],
   "source": [
    "'''\n",
    "8. What are the values of the following expressions?\n",
    "'Remember, remember, the fifth of July.'.split()\n",
    "'-'.join('There can only one.'.split())\n",
    "\n",
    "Answer:\n",
    "---------------------------------------\n",
    "\n",
    "#'Remember, remember, the fifth of July.'.split() >> ['Remember,', 'remember,', 'the', 'fifth', 'of', 'July.']\n",
    "#'-'.join('There can only one.'.split()) >> 'There-can-only-one.'\n",
    "\n",
    "'''"
   ]
  },
  {
   "cell_type": "code",
   "execution_count": 23,
   "metadata": {},
   "outputs": [
    {
     "data": {
      "text/plain": [
       "'\\n9. What are the methods for right-justifying, left-justifying, and centering a string?\\n\\nAnswer:\\n---------------------------------------\\n\\nThe rjust(), ljust(), and center() string methods, respectively\\n\\n'"
      ]
     },
     "execution_count": 23,
     "metadata": {},
     "output_type": "execute_result"
    }
   ],
   "source": [
    "'''\n",
    "9. What are the methods for right-justifying, left-justifying, and centering a string?\n",
    "\n",
    "Answer:\n",
    "---------------------------------------\n",
    "\n",
    "The rjust(), ljust(), and center() string methods, respectively\n",
    "\n",
    "'''"
   ]
  },
  {
   "cell_type": "code",
   "execution_count": 24,
   "metadata": {},
   "outputs": [
    {
     "data": {
      "text/plain": [
       "'\\n10. What is the best way to remove whitespace characters from the start or end?\\n\\nAnswer:\\n---------------------------------------\\n\\nThe lstrip() and rstrip() methods remove whitespace from the left and right ends of a string, respectively.\\n\\n'"
      ]
     },
     "execution_count": 24,
     "metadata": {},
     "output_type": "execute_result"
    }
   ],
   "source": [
    "'''\n",
    "10. What is the best way to remove whitespace characters from the start or end?\n",
    "\n",
    "Answer:\n",
    "---------------------------------------\n",
    "\n",
    "The lstrip() and rstrip() methods remove whitespace from the left and right ends of a string, respectively.\n",
    "\n",
    "'''"
   ]
  },
  {
   "cell_type": "code",
   "execution_count": null,
   "metadata": {},
   "outputs": [],
   "source": []
  }
 ],
 "metadata": {
  "kernelspec": {
   "display_name": "Python 3",
   "language": "python",
   "name": "python3"
  },
  "language_info": {
   "codemirror_mode": {
    "name": "ipython",
    "version": 3
   },
   "file_extension": ".py",
   "mimetype": "text/x-python",
   "name": "python",
   "nbconvert_exporter": "python",
   "pygments_lexer": "ipython3",
   "version": "3.7.4"
  }
 },
 "nbformat": 4,
 "nbformat_minor": 2
}
