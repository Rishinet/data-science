{
 "cells": [
  {
   "cell_type": "code",
   "execution_count": 1,
   "metadata": {},
   "outputs": [
    {
     "data": {
      "text/plain": [
       "\"\\n1. To what does a relative path refer?\\n\\nRelative paths are relative to the current working directory.\\n\\n2. What does an absolute path start with your operating system?\\n\\nAbsolute paths start with the root folder, such as / or C:\\\\.\\n\\n3. What do the functions os.getcwd() and os.chdir() do?\\n\\nOn Windows, it evaluates to WindowsPath('C:/Users/Al'). On other operating systems, \\nit evaluates to a different kind of Path object but with the same path.\\n\\n4. What are the . and .. folders?\\n\\nThe . folder is the current folder, and .. is the parent folder.\\n\\n5. In C:\\x08acon\\\\eggs\\\\spam.txt, which part is the dir name, and which part is the base name?\\n\\nC:\\x08acon\\\\eggs is the dir name, while spam.txt is the base name.\\n\\n6. What are the three “mode” arguments that can be passed to the open() function?\\n\\nThe string 'r' for read mode, 'w' for write mode, and 'a' for append mode\\n\\n7. What happens if an existing file is opened in write mode?\\n\\nAn existing file opened in write mode is erased and completely overwritten.\\n\\n8. How do you tell the difference between read() and readlines()?\\n\\nThe read() method returns the file’s entire contents as a single string value. \\nThe readlines() method returns a list of strings, where each string is a line \\nfrom the file’s contents.\\n\\n9. What data structure does a shelf value resemble?\\n\\nA shelf value resembles a dictionary value; it has keys and values, along with keys() \\nand values() methods that work similarly to the dictionary methods of the same names.\\n\\n\\n\""
      ]
     },
     "execution_count": 1,
     "metadata": {},
     "output_type": "execute_result"
    }
   ],
   "source": [
    "'''\n",
    "1. To what does a relative path refer?\n",
    "\n",
    "Relative paths are relative to the current working directory.\n",
    "\n",
    "2. What does an absolute path start with your operating system?\n",
    "\n",
    "Absolute paths start with the root folder, such as / or C:\\.\n",
    "\n",
    "3. What do the functions os.getcwd() and os.chdir() do?\n",
    "\n",
    "On Windows, it evaluates to WindowsPath('C:/Users/Al'). On other operating systems, \n",
    "it evaluates to a different kind of Path object but with the same path.\n",
    "\n",
    "4. What are the . and .. folders?\n",
    "\n",
    "The . folder is the current folder, and .. is the parent folder.\n",
    "\n",
    "5. In C:\\bacon\\eggs\\spam.txt, which part is the dir name, and which part is the base name?\n",
    "\n",
    "C:\\bacon\\eggs is the dir name, while spam.txt is the base name.\n",
    "\n",
    "6. What are the three “mode” arguments that can be passed to the open() function?\n",
    "\n",
    "The string 'r' for read mode, 'w' for write mode, and 'a' for append mode\n",
    "\n",
    "7. What happens if an existing file is opened in write mode?\n",
    "\n",
    "An existing file opened in write mode is erased and completely overwritten.\n",
    "\n",
    "8. How do you tell the difference between read() and readlines()?\n",
    "\n",
    "The read() method returns the file’s entire contents as a single string value. \n",
    "The readlines() method returns a list of strings, where each string is a line \n",
    "from the file’s contents.\n",
    "\n",
    "9. What data structure does a shelf value resemble?\n",
    "\n",
    "A shelf value resembles a dictionary value; it has keys and values, along with keys() \n",
    "and values() methods that work similarly to the dictionary methods of the same names.\n",
    "\n",
    "\n",
    "'''"
   ]
  },
  {
   "cell_type": "code",
   "execution_count": null,
   "metadata": {},
   "outputs": [],
   "source": []
  }
 ],
 "metadata": {
  "kernelspec": {
   "display_name": "Python 3",
   "language": "python",
   "name": "python3"
  },
  "language_info": {
   "codemirror_mode": {
    "name": "ipython",
    "version": 3
   },
   "file_extension": ".py",
   "mimetype": "text/x-python",
   "name": "python",
   "nbconvert_exporter": "python",
   "pygments_lexer": "ipython3",
   "version": "3.7.4"
  }
 },
 "nbformat": 4,
 "nbformat_minor": 2
}
