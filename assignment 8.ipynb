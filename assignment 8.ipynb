{
 "cells": [
  {
   "cell_type": "code",
   "execution_count": 1,
   "metadata": {},
   "outputs": [
    {
     "data": {
      "text/plain": [
       "\"\\n1. Is the Python Standard Library included with PyInputPlus?\\nAnswer:\\n-----------------------------------------------------------\\nNo. PyInputPlus is a third-party module and doesn’t come with the Python Standard Library.\\n\\n2. Why is PyInputPlus commonly imported with import pyinputplus as pypi?\\nAnswer:\\n-----------------------------------------------------------\\nThis optionally makes your code shorter to type: you can type pyip.inputStr() \\ninstead of pyinputplus.inputStr().\\n\\n3. How do you distinguish between inputInt() and inputFloat()?\\nAnswer:\\n-----------------------------------------------------------\\nThe inputInt() function returns an int value, while the inputFloat() \\nfunction returns a float value. This is the difference between returning 4 and 4.0.\\n\\n4. Using PyInputPlus, how do you ensure that the user enters a whole number between 0 and 99?\\nAnswer:\\n-----------------------------------------------------------\\nCall pyip.inputint(min=0, max=99)\\n\\n5. What is transferred to the keyword arguments allowRegexes and blockRegexes?\\nAnswer:\\n-----------------------------------------------------------\\nA list of regex strings that are either explicitly allowed or denied\\n\\n6. If a blank input is entered three times, what does inputStr(limit=3) do?\\nAnswer:\\n-----------------------------------------------------------\\nThe function will raise RetryLimitException.\\n\\n7. If blank input is entered three times, what does inputStr(limit=3, default='hello') do?\\nAnswer:\\n-----------------------------------------------------------\\nThe function returns the value 'hello'.\\n\\n\\n\\n\""
      ]
     },
     "execution_count": 1,
     "metadata": {},
     "output_type": "execute_result"
    }
   ],
   "source": [
    "'''\n",
    "1. Is the Python Standard Library included with PyInputPlus?\n",
    "Answer:\n",
    "-----------------------------------------------------------\n",
    "No. PyInputPlus is a third-party module and doesn’t come with the Python Standard Library.\n",
    "\n",
    "2. Why is PyInputPlus commonly imported with import pyinputplus as pypi?\n",
    "Answer:\n",
    "-----------------------------------------------------------\n",
    "This optionally makes your code shorter to type: you can type pyip.inputStr() \n",
    "instead of pyinputplus.inputStr().\n",
    "\n",
    "3. How do you distinguish between inputInt() and inputFloat()?\n",
    "Answer:\n",
    "-----------------------------------------------------------\n",
    "The inputInt() function returns an int value, while the inputFloat() \n",
    "function returns a float value. This is the difference between returning 4 and 4.0.\n",
    "\n",
    "4. Using PyInputPlus, how do you ensure that the user enters a whole number between 0 and 99?\n",
    "Answer:\n",
    "-----------------------------------------------------------\n",
    "Call pyip.inputint(min=0, max=99)\n",
    "\n",
    "5. What is transferred to the keyword arguments allowRegexes and blockRegexes?\n",
    "Answer:\n",
    "-----------------------------------------------------------\n",
    "A list of regex strings that are either explicitly allowed or denied\n",
    "\n",
    "6. If a blank input is entered three times, what does inputStr(limit=3) do?\n",
    "Answer:\n",
    "-----------------------------------------------------------\n",
    "The function will raise RetryLimitException.\n",
    "\n",
    "7. If blank input is entered three times, what does inputStr(limit=3, default='hello') do?\n",
    "Answer:\n",
    "-----------------------------------------------------------\n",
    "The function returns the value 'hello'.\n",
    "\n",
    "\n",
    "\n",
    "'''"
   ]
  },
  {
   "cell_type": "code",
   "execution_count": null,
   "metadata": {},
   "outputs": [],
   "source": []
  }
 ],
 "metadata": {
  "kernelspec": {
   "display_name": "Python 3",
   "language": "python",
   "name": "python3"
  },
  "language_info": {
   "codemirror_mode": {
    "name": "ipython",
    "version": 3
   },
   "file_extension": ".py",
   "mimetype": "text/x-python",
   "name": "python",
   "nbconvert_exporter": "python",
   "pygments_lexer": "ipython3",
   "version": "3.7.4"
  }
 },
 "nbformat": 4,
 "nbformat_minor": 2
}
