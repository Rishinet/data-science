{
 "cells": [
  {
   "cell_type": "code",
   "execution_count": 16,
   "metadata": {},
   "outputs": [
    {
     "data": {
      "text/plain": [
       "\"\\n1. In the below elements which of them are values or an expression? eg:- values can be integer or string and expressions will be mathematical operators.\\n\\n* \\n'hello'\\n-87.8\\n- \\n/ \\n+\\n6 \\n\\n-----------------------------------------------------------------\\nAnswer:\\n\\nValues : \\n'hello'\\n-87.8\\n6\\n\\nExpressions:\\n- \\n/ \\n+\\n*\\n\\n\""
      ]
     },
     "execution_count": 16,
     "metadata": {},
     "output_type": "execute_result"
    }
   ],
   "source": [
    "'''\n",
    "1. In the below elements which of them are values or an expression? eg:- values can be integer or string and expressions will be mathematical operators.\n",
    "\n",
    "* \n",
    "'hello'\n",
    "-87.8\n",
    "- \n",
    "/ \n",
    "+\n",
    "6 \n",
    "\n",
    "-----------------------------------------------------------------\n",
    "Answer:\n",
    "\n",
    "Values : \n",
    "'hello'\n",
    "-87.8\n",
    "6\n",
    "\n",
    "Expressions:\n",
    "- \n",
    "/ \n",
    "+\n",
    "*\n",
    "\n",
    "'''\n",
    "\n"
   ]
  },
  {
   "cell_type": "code",
   "execution_count": 17,
   "metadata": {},
   "outputs": [
    {
     "data": {
      "text/plain": [
       "'\\n2. What is the difference between string and variable?\\n\\n------------------------------------------------------------------------------\\nAnswer:\\n\\nVariable:\\nVariable is an identifier to store a value in a memory location. \\nVariable is created when you first assign a value to it in your program.\\nA variable can be of several types like integer, string, float, etc. based on the value you assign to it.\\n\\nfor example\\nx = 10\\n\\nvariable x is created when you assign the value 10 to it, \\nmeaning that a memory address is allocated to store the value 10. \\nLater, when you re-assign using x = 20, the value in the corresponding memory address will be changed to 20.\\n\\nStrings:\\nAnything you assign to a variable using quotes (single or double) will be considered as a string. \\nThus, a string is one of several types of a variable.\\nStrings is a data type for a sequence of characters (e.g. \"jjjjjjjjjjjjjjjjjjj”). \\nIn addition to letters, they can also include numbers, spaces, punctuation, and even line breaks (using ‘\\n’ for new line). \\nStrings can not be used for calculation (even if your string is just a number like ‘5’), \\nyou would have to convert it to a number data type first to perform math operations on it.\\n\\nA string is defined by putting single quotes (‘ ’) or double quotes (“ “) around whatever you want to \\nclassify as a string. The string data type is primarily used for reading and writing data.\\n\\na = \"10\" \\nb = \"20\" \\nprint(a+b)  #prints 1020 \\n \\na = 10 \\nb = 20 \\nprint(a+b)  #prints 30 \\n\\nSo, in the above example, (a+b) returns 1020 in the first case (string concatenation of 10 and 20), \\nwhereas in the second case, it returns 30 since it interprets a and b as integers at run-time. \\nYou can cross check the type of a variable x by using the command type(x).\\n\\n\\n'"
      ]
     },
     "execution_count": 17,
     "metadata": {},
     "output_type": "execute_result"
    }
   ],
   "source": [
    "'''\n",
    "2. What is the difference between string and variable?\n",
    "\n",
    "------------------------------------------------------------------------------\n",
    "Answer:\n",
    "\n",
    "Variable:\n",
    "Variable is an identifier to store a value in a memory location. \n",
    "Variable is created when you first assign a value to it in your program.\n",
    "A variable can be of several types like integer, string, float, etc. based on the value you assign to it.\n",
    "\n",
    "for example\n",
    "x = 10\n",
    "\n",
    "variable x is created when you assign the value 10 to it, \n",
    "meaning that a memory address is allocated to store the value 10. \n",
    "Later, when you re-assign using x = 20, the value in the corresponding memory address will be changed to 20.\n",
    "\n",
    "Strings:\n",
    "Anything you assign to a variable using quotes (single or double) will be considered as a string. \n",
    "Thus, a string is one of several types of a variable.\n",
    "Strings is a data type for a sequence of characters (e.g. \"jjjjjjjjjjjjjjjjjjj”). \n",
    "In addition to letters, they can also include numbers, spaces, punctuation, and even line breaks (using ‘\\n’ for new line). \n",
    "Strings can not be used for calculation (even if your string is just a number like ‘5’), \n",
    "you would have to convert it to a number data type first to perform math operations on it.\n",
    "\n",
    "A string is defined by putting single quotes (‘ ’) or double quotes (“ “) around whatever you want to \n",
    "classify as a string. The string data type is primarily used for reading and writing data.\n",
    "\n",
    "a = \"10\" \n",
    "b = \"20\" \n",
    "print(a+b)  #prints 1020 \n",
    " \n",
    "a = 10 \n",
    "b = 20 \n",
    "print(a+b)  #prints 30 \n",
    "\n",
    "So, in the above example, (a+b) returns 1020 in the first case (string concatenation of 10 and 20), \n",
    "whereas in the second case, it returns 30 since it interprets a and b as integers at run-time. \n",
    "You can cross check the type of a variable x by using the command type(x).\n",
    "\n",
    "\n",
    "'''"
   ]
  },
  {
   "cell_type": "code",
   "execution_count": 18,
   "metadata": {},
   "outputs": [
    {
     "data": {
      "text/plain": [
       "'\\n3. Describe three different data types.\\n\\n----------------------------------------------------------------------------\\nAnswer:\\n\\nList Data Type:-\\n\\nA list is formed(or created) by placing all the items (elements) inside square brackets [ ], separated by commas.\\nIt can have any number of items and they may or may not be of different types (integer, float, string, etc.).\\nA list is mutable, which suggests we will modify the list\\nExample:\\nList1 = [3,8,7.2,\"Hello\"]\\nOutput:  List1[2] = 7.2\\n\\n\\nTuple Data Type:-\\n\\nA tuple is defined as an ordered collection of Python objects. The only difference between tuple and list is that tuples are immutable i.e. \\ntuples can’t be modified after it’s created. It is represented by tuple class. we can represent tuples using parentheses ( ).\\nExample:\\nTuple = (25,10,12.5,\"Hello\")\\nOutput: Tuple[1] =  10\\n\\n\\nSet Data Type:-\\n\\nA set is an unordered collection of items. Every set element is exclusive (no duplicates) and must be immutable (cannot be changed).\\nExample:\\nSet = {4,3,6.6,\"Hello\"}\\nprint(Set)\\nOutput: {‘Hello’, 3, 4, 6.6}\\n\\n\\nDictionary Data Type:-\\n\\nIn Python, Dictionary is an unordered collection of data values, which is used to store data values like a map, which, \\nunlike other Data Types that hold only a single value as an element, a Dictionary consists of key-value pair. \\nKey-value is provided within the dictionary to form it more optimized. In the representation of a dictionary data type, \\neach key-value pair during a Dictionary is separated by a colon: whereas each key’s separated by a ‘comma’.\\nSyntax:\\nKey:value\\nExample:\\nDict1 = {1:\\'Hello\\',2:5.5, 3:\\'World\\'}\\nprint(Dict1)\\nOutput: {1: ‘Hello’, 2: 5.5, 3: ‘World’}\\n\\n\\nNumeric Data Type:-\\n\\nIn Python, numeric data type represents the data that has a numeric value. The numeric value can be an integer, \\nfloating number, or even complex number. These values are defined as int, float, and complex classes in Python.\\nIntegers – This data type is represented with the help of int class. It consists of positive or negative \\nwhole numbers (without fraction or decimal). In Python, there’s no limit to how long integer values are often.\\nExample:-\\na = 2\\nprint(a, \"is of type\", type(a))\\nOutput: 2 is of type <class \\'int\\'>\\nb = 1.5\\nprint(b, \"is of type\", type(b))\\nOutput: 1.5 is of type <class \\'float\\'>\\nc = 8+3j\\nprint(c, \"is a type\", type(c))\\nOutput: (8+3j) is a type <class \\'complex\\'>\\n\\n\\nString Data Type:-\\n\\nThe string is a sequence of Unicode characters. A string may be a collection of 1 or more characters put \\nduring a quotation mark, double-quote, or triple quote. It can be represented using an str class.\\nExample:-\\nstring1=  “Hello World”\\nprint(string1)\\n\\n\\n'"
      ]
     },
     "execution_count": 18,
     "metadata": {},
     "output_type": "execute_result"
    }
   ],
   "source": [
    "'''\n",
    "3. Describe three different data types.\n",
    "\n",
    "----------------------------------------------------------------------------\n",
    "Answer:\n",
    "\n",
    "List Data Type:-\n",
    "\n",
    "A list is formed(or created) by placing all the items (elements) inside square brackets [ ], separated by commas.\n",
    "It can have any number of items and they may or may not be of different types (integer, float, string, etc.).\n",
    "A list is mutable, which suggests we will modify the list\n",
    "Example:\n",
    "List1 = [3,8,7.2,\"Hello\"]\n",
    "Output:  List1[2] = 7.2\n",
    "\n",
    "\n",
    "Tuple Data Type:-\n",
    "\n",
    "A tuple is defined as an ordered collection of Python objects. The only difference between tuple and list is that tuples are immutable i.e. \n",
    "tuples can’t be modified after it’s created. It is represented by tuple class. we can represent tuples using parentheses ( ).\n",
    "Example:\n",
    "Tuple = (25,10,12.5,\"Hello\")\n",
    "Output: Tuple[1] =  10\n",
    "\n",
    "\n",
    "Set Data Type:-\n",
    "\n",
    "A set is an unordered collection of items. Every set element is exclusive (no duplicates) and must be immutable (cannot be changed).\n",
    "Example:\n",
    "Set = {4,3,6.6,\"Hello\"}\n",
    "print(Set)\n",
    "Output: {‘Hello’, 3, 4, 6.6}\n",
    "\n",
    "\n",
    "Dictionary Data Type:-\n",
    "\n",
    "In Python, Dictionary is an unordered collection of data values, which is used to store data values like a map, which, \n",
    "unlike other Data Types that hold only a single value as an element, a Dictionary consists of key-value pair. \n",
    "Key-value is provided within the dictionary to form it more optimized. In the representation of a dictionary data type, \n",
    "each key-value pair during a Dictionary is separated by a colon: whereas each key’s separated by a ‘comma’.\n",
    "Syntax:\n",
    "Key:value\n",
    "Example:\n",
    "Dict1 = {1:'Hello',2:5.5, 3:'World'}\n",
    "print(Dict1)\n",
    "Output: {1: ‘Hello’, 2: 5.5, 3: ‘World’}\n",
    "\n",
    "\n",
    "Numeric Data Type:-\n",
    "\n",
    "In Python, numeric data type represents the data that has a numeric value. The numeric value can be an integer, \n",
    "floating number, or even complex number. These values are defined as int, float, and complex classes in Python.\n",
    "Integers – This data type is represented with the help of int class. It consists of positive or negative \n",
    "whole numbers (without fraction or decimal). In Python, there’s no limit to how long integer values are often.\n",
    "Example:-\n",
    "a = 2\n",
    "print(a, \"is of type\", type(a))\n",
    "Output: 2 is of type <class 'int'>\n",
    "b = 1.5\n",
    "print(b, \"is of type\", type(b))\n",
    "Output: 1.5 is of type <class 'float'>\n",
    "c = 8+3j\n",
    "print(c, \"is a type\", type(c))\n",
    "Output: (8+3j) is a type <class 'complex'>\n",
    "\n",
    "\n",
    "String Data Type:-\n",
    "\n",
    "The string is a sequence of Unicode characters. A string may be a collection of 1 or more characters put \n",
    "during a quotation mark, double-quote, or triple quote. It can be represented using an str class.\n",
    "Example:-\n",
    "string1=  “Hello World”\n",
    "print(string1)\n",
    "\n",
    "\n",
    "'''"
   ]
  },
  {
   "cell_type": "code",
   "execution_count": 19,
   "metadata": {
    "scrolled": true
   },
   "outputs": [
    {
     "data": {
      "text/plain": [
       "'\\n4. What is an expression made up of? What do all expressions do?\\n\\nAnswer:\\n----------------------------------------------------------------------\\n\\n\\nAn expression is a combination of values, variables, operators, and calls to functions. \\nExpressions need to be evaluated. If you ask Python to print an expression, the \\ninterpreter evaluates the expression and displays the result.\\n\\n\\n'"
      ]
     },
     "execution_count": 19,
     "metadata": {},
     "output_type": "execute_result"
    }
   ],
   "source": [
    "'''\n",
    "4. What is an expression made up of? What do all expressions do?\n",
    "\n",
    "Answer:\n",
    "----------------------------------------------------------------------\n",
    "\n",
    "\n",
    "An expression is a combination of values, variables, operators, and calls to functions. \n",
    "Expressions need to be evaluated. If you ask Python to print an expression, the \n",
    "interpreter evaluates the expression and displays the result.\n",
    "\n",
    "\n",
    "'''"
   ]
  },
  {
   "cell_type": "code",
   "execution_count": 20,
   "metadata": {},
   "outputs": [
    {
     "data": {
      "text/plain": [
       "'\\n5. This assignment statements, like spam = 10. What is the difference between an expression and a statement?\\n\\nAnswer:\\n----------------------------------------------------------------------------\\n\\nAn expression evaluates to a single value. A statement does not.\\n\\n\\n'"
      ]
     },
     "execution_count": 20,
     "metadata": {},
     "output_type": "execute_result"
    }
   ],
   "source": [
    "'''\n",
    "5. This assignment statements, like spam = 10. What is the difference between an expression and a statement?\n",
    "\n",
    "Answer:\n",
    "----------------------------------------------------------------------------\n",
    "\n",
    "An expression evaluates to a single value. A statement does not.\n",
    "\n",
    "\n",
    "'''"
   ]
  },
  {
   "cell_type": "code",
   "execution_count": 21,
   "metadata": {},
   "outputs": [
    {
     "data": {
      "text/plain": [
       "'\\n6. After running the following code, what does the variable bacon contain?\\nbacon = 22\\nbacon + 1\\n\\nAnswer:\\n----------------------------------------------------------------------------\\nvariable bacon contains value 22\\n\\n\\n'"
      ]
     },
     "execution_count": 21,
     "metadata": {},
     "output_type": "execute_result"
    }
   ],
   "source": [
    "'''\n",
    "6. After running the following code, what does the variable bacon contain?\n",
    "bacon = 22\n",
    "bacon + 1\n",
    "\n",
    "Answer:\n",
    "----------------------------------------------------------------------------\n",
    "variable bacon contains value 22\n",
    "\n",
    "\n",
    "'''"
   ]
  },
  {
   "cell_type": "code",
   "execution_count": 22,
   "metadata": {},
   "outputs": [
    {
     "data": {
      "text/plain": [
       "\"\\n7. What should the values of the following two terms be?\\n'spam' + 'spamspam'\\n'spam' * 3\\n\\nAnswer:\\n----------------------------------------------------------------------------\\nOutput is same 'spamspamspam'\\n\\n\""
      ]
     },
     "execution_count": 22,
     "metadata": {},
     "output_type": "execute_result"
    }
   ],
   "source": [
    "'''\n",
    "7. What should the values of the following two terms be?\n",
    "'spam' + 'spamspam'\n",
    "'spam' * 3\n",
    "\n",
    "Answer:\n",
    "----------------------------------------------------------------------------\n",
    "Output is same 'spamspamspam'\n",
    "\n",
    "'''"
   ]
  },
  {
   "cell_type": "code",
   "execution_count": 23,
   "metadata": {},
   "outputs": [
    {
     "data": {
      "text/plain": [
       "'\\n8. Why is eggs a valid variable name while 100 is invalid?\\n\\nAnswer:\\n----------------------------------------------------------------------------\\nVariable names cannot begin with a number.\\n\\n'"
      ]
     },
     "execution_count": 23,
     "metadata": {},
     "output_type": "execute_result"
    }
   ],
   "source": [
    "'''\n",
    "8. Why is eggs a valid variable name while 100 is invalid?\n",
    "\n",
    "Answer:\n",
    "----------------------------------------------------------------------------\n",
    "Variable names cannot begin with a number.\n",
    "\n",
    "'''"
   ]
  },
  {
   "cell_type": "code",
   "execution_count": 24,
   "metadata": {},
   "outputs": [
    {
     "data": {
      "text/plain": [
       "'\\n9. What three functions can be used to get the integer, floating-point number, or string version of a value?\\n\\nAnswer:\\n----------------------------------------------------------------------------\\nThe int(), float(), and str() functions will evaluate to the integer, floating-point number, and string \\nversions of the value passed to them.\\n\\n'"
      ]
     },
     "execution_count": 24,
     "metadata": {},
     "output_type": "execute_result"
    }
   ],
   "source": [
    "'''\n",
    "9. What three functions can be used to get the integer, floating-point number, or string version of a value?\n",
    "\n",
    "Answer:\n",
    "----------------------------------------------------------------------------\n",
    "The int(), float(), and str() functions will evaluate to the integer, floating-point number, and string \n",
    "versions of the value passed to them.\n",
    "\n",
    "'''"
   ]
  },
  {
   "cell_type": "code",
   "execution_count": 25,
   "metadata": {},
   "outputs": [
    {
     "data": {
      "text/plain": [
       "'\\n10. Why does this expression cause an error? How can you fix it?\\n\\'I have eaten \\' + 99 + \\' burritos.\\'\\n\\nAnswer:\\n----------------------------------------------------------------------------\\nerror : can only concatenate str (not \"int\") to str\\n\\nfix : \\'I have eaten \\' + str(99) + \\' burritos.\\'\\n\\n'"
      ]
     },
     "execution_count": 25,
     "metadata": {},
     "output_type": "execute_result"
    }
   ],
   "source": [
    "'''\n",
    "10. Why does this expression cause an error? How can you fix it?\n",
    "'I have eaten ' + 99 + ' burritos.'\n",
    "\n",
    "Answer:\n",
    "----------------------------------------------------------------------------\n",
    "error : can only concatenate str (not \"int\") to str\n",
    "\n",
    "fix : 'I have eaten ' + str(99) + ' burritos.'\n",
    "\n",
    "'''"
   ]
  },
  {
   "cell_type": "code",
   "execution_count": null,
   "metadata": {},
   "outputs": [],
   "source": []
  },
  {
   "cell_type": "code",
   "execution_count": null,
   "metadata": {},
   "outputs": [],
   "source": []
  },
  {
   "cell_type": "code",
   "execution_count": null,
   "metadata": {},
   "outputs": [],
   "source": []
  },
  {
   "cell_type": "code",
   "execution_count": null,
   "metadata": {},
   "outputs": [],
   "source": []
  }
 ],
 "metadata": {
  "kernelspec": {
   "display_name": "Python 3",
   "language": "python",
   "name": "python3"
  },
  "language_info": {
   "codemirror_mode": {
    "name": "ipython",
    "version": 3
   },
   "file_extension": ".py",
   "mimetype": "text/x-python",
   "name": "python",
   "nbconvert_exporter": "python",
   "pygments_lexer": "ipython3",
   "version": "3.7.4"
  }
 },
 "nbformat": 4,
 "nbformat_minor": 2
}
