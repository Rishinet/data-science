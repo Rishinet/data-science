{
 "cells": [
  {
   "cell_type": "code",
   "execution_count": 1,
   "metadata": {},
   "outputs": [
    {
     "data": {
      "text/plain": [
       "\"\\n1. What advantages do Excel spreadsheets have over CSV spreadsheets?\\n\\nIn Excel, spreadsheets can have values of data types other than strings; \\ncells can have different fonts, sizes, or color settings; cells can have \\nvarying widths and heights; adjacent cells can be merged; and you can embed images and charts.\\n\\n2. What do you pass to csv.reader() and csv.writer() to create reader and writer objects?\\n\\nYou pass a File object, obtained from a call to open().\\n\\n3. What modes do File objects for reader and writer objects need to be opened in?\\n\\nFile objects need to be opened in read-binary ('rb') for \\nreader objects and write-binary ('wb') for writer objects.\\n\\n4. What method takes a list argument and writes it to a CSV file?\\n\\nThe writerow() method\\n\\n5. What do the keyword arguments delimiter and line terminator do?\\n\\nThe delimiter argument changes the string used to separate cells in a row. \\nThe lineterminator argument changes the string used to separate rows.\\n\\n\\n6. What function takes a string of JSON data and returns a Python data structure?\\n\\njson.loads()\\n\\n7. What function takes a Python data structure and returns a string of JSON data?\\n\\njson.dumps()\\n\\n\\n\""
      ]
     },
     "execution_count": 1,
     "metadata": {},
     "output_type": "execute_result"
    }
   ],
   "source": [
    "'''\n",
    "1. What advantages do Excel spreadsheets have over CSV spreadsheets?\n",
    "\n",
    "In Excel, spreadsheets can have values of data types other than strings; \n",
    "cells can have different fonts, sizes, or color settings; cells can have \n",
    "varying widths and heights; adjacent cells can be merged; and you can embed images and charts.\n",
    "\n",
    "2. What do you pass to csv.reader() and csv.writer() to create reader and writer objects?\n",
    "\n",
    "You pass a File object, obtained from a call to open().\n",
    "\n",
    "3. What modes do File objects for reader and writer objects need to be opened in?\n",
    "\n",
    "File objects need to be opened in read-binary ('rb') for \n",
    "reader objects and write-binary ('wb') for writer objects.\n",
    "\n",
    "4. What method takes a list argument and writes it to a CSV file?\n",
    "\n",
    "The writerow() method\n",
    "\n",
    "5. What do the keyword arguments delimiter and line terminator do?\n",
    "\n",
    "The delimiter argument changes the string used to separate cells in a row. \n",
    "The lineterminator argument changes the string used to separate rows.\n",
    "\n",
    "\n",
    "6. What function takes a string of JSON data and returns a Python data structure?\n",
    "\n",
    "json.loads()\n",
    "\n",
    "7. What function takes a Python data structure and returns a string of JSON data?\n",
    "\n",
    "json.dumps()\n",
    "\n",
    "\n",
    "'''"
   ]
  },
  {
   "cell_type": "code",
   "execution_count": null,
   "metadata": {},
   "outputs": [],
   "source": []
  }
 ],
 "metadata": {
  "kernelspec": {
   "display_name": "Python 3",
   "language": "python",
   "name": "python3"
  },
  "language_info": {
   "codemirror_mode": {
    "name": "ipython",
    "version": 3
   },
   "file_extension": ".py",
   "mimetype": "text/x-python",
   "name": "python",
   "nbconvert_exporter": "python",
   "pygments_lexer": "ipython3",
   "version": "3.7.4"
  }
 },
 "nbformat": 4,
 "nbformat_minor": 2
}
