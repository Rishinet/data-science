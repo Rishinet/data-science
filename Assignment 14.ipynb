{
 "cells": [
  {
   "cell_type": "code",
   "execution_count": 1,
   "metadata": {},
   "outputs": [
    {
     "data": {
      "text/plain": [
       "\"\\n1. What does RGBA stand for?\\n\\nAn RGBA value is a tuple of 4 integers, each ranging from 0 to 255. \\nThe four integers correspond to the amount of red, green, blue, and \\nalpha (transparency) in the color.\\n\\n2. From the Pillow module, how do you get the RGBA value of any images?\\n\\nA function call to ImageColor.getcolor('CornflowerBlue', 'RGBA') will return \\n(100, 149, 237, 255), the RGBA value for that color.\\n\\n3. What is a box tuple, and how does it work?\\n\\nA box tuple is a tuple value of four integers: the left-edge x-coordinate, \\nthe top-edge y-coordinate, the width, and the height, respectively.\\n\\n4. Use your image and load in notebook then, How can you find out the width and height of an Image object?\\n\\nimageObj.size is a tuple of two integers, the width and the height.\\n\\n5. What method would you call to get Image object for a 100×100 image, excluding the lower-left quarter of it?\\n\\nimageObj.crop((0, 50, 50, 50)). Notice that you are passing a box tuple to crop(), \\nnot four separate integer arguments.\\n\\n6. After making changes to an Image object, how could you save it as an image file?\\n\\nCall the imageObj.save('new_filename.png') method of the Image object.\\n\\n7. What module contains Pillow’s shape-drawing code?\\n\\nThe ImageDraw module contains code to draw on images.\\n\\n8. Image objects do not have drawing methods. What kind of object does? How do you get this kind of object?\\n\\nImageDraw objects have shape-drawing methods such as point(), line(), or rectangle(). \\nThey are returned by passing the Image object to the ImageDraw.Draw() function.\\n\\n\""
      ]
     },
     "execution_count": 1,
     "metadata": {},
     "output_type": "execute_result"
    }
   ],
   "source": [
    "'''\n",
    "1. What does RGBA stand for?\n",
    "\n",
    "An RGBA value is a tuple of 4 integers, each ranging from 0 to 255. \n",
    "The four integers correspond to the amount of red, green, blue, and \n",
    "alpha (transparency) in the color.\n",
    "\n",
    "2. From the Pillow module, how do you get the RGBA value of any images?\n",
    "\n",
    "A function call to ImageColor.getcolor('CornflowerBlue', 'RGBA') will return \n",
    "(100, 149, 237, 255), the RGBA value for that color.\n",
    "\n",
    "3. What is a box tuple, and how does it work?\n",
    "\n",
    "A box tuple is a tuple value of four integers: the left-edge x-coordinate, \n",
    "the top-edge y-coordinate, the width, and the height, respectively.\n",
    "\n",
    "4. Use your image and load in notebook then, How can you find out the width and height of an Image object?\n",
    "\n",
    "imageObj.size is a tuple of two integers, the width and the height.\n",
    "\n",
    "5. What method would you call to get Image object for a 100×100 image, excluding the lower-left quarter of it?\n",
    "\n",
    "imageObj.crop((0, 50, 50, 50)). Notice that you are passing a box tuple to crop(), \n",
    "not four separate integer arguments.\n",
    "\n",
    "6. After making changes to an Image object, how could you save it as an image file?\n",
    "\n",
    "Call the imageObj.save('new_filename.png') method of the Image object.\n",
    "\n",
    "7. What module contains Pillow’s shape-drawing code?\n",
    "\n",
    "The ImageDraw module contains code to draw on images.\n",
    "\n",
    "8. Image objects do not have drawing methods. What kind of object does? How do you get this kind of object?\n",
    "\n",
    "ImageDraw objects have shape-drawing methods such as point(), line(), or rectangle(). \n",
    "They are returned by passing the Image object to the ImageDraw.Draw() function.\n",
    "\n",
    "'''"
   ]
  },
  {
   "cell_type": "code",
   "execution_count": null,
   "metadata": {},
   "outputs": [],
   "source": []
  }
 ],
 "metadata": {
  "kernelspec": {
   "display_name": "Python 3",
   "language": "python",
   "name": "python3"
  },
  "language_info": {
   "codemirror_mode": {
    "name": "ipython",
    "version": 3
   },
   "file_extension": ".py",
   "mimetype": "text/x-python",
   "name": "python",
   "nbconvert_exporter": "python",
   "pygments_lexer": "ipython3",
   "version": "3.7.4"
  }
 },
 "nbformat": 4,
 "nbformat_minor": 2
}
