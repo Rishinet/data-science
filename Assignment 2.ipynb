{
 "cells": [
  {
   "cell_type": "code",
   "execution_count": 20,
   "metadata": {},
   "outputs": [
    {
     "data": {
      "text/plain": [
       "'\\n1.What are the two values of the Boolean data type? How do you write them?\\n\\n-----------------------------------------------------------------\\nAnswer:\\n\\nTrue and False, using capital T and F, with the rest of the word in lowercase\\n\\n\\n'"
      ]
     },
     "execution_count": 20,
     "metadata": {},
     "output_type": "execute_result"
    }
   ],
   "source": [
    "'''\n",
    "1.What are the two values of the Boolean data type? How do you write them?\n",
    "\n",
    "-----------------------------------------------------------------\n",
    "Answer:\n",
    "\n",
    "True and False, using capital T and F, with the rest of the word in lowercase\n",
    "\n",
    "\n",
    "'''"
   ]
  },
  {
   "cell_type": "code",
   "execution_count": 21,
   "metadata": {},
   "outputs": [
    {
     "data": {
      "text/plain": [
       "'\\n2. What are the three different types of Boolean operators?\\n\\n-----------------------------------------------------------------\\nAnswer:\\n\\nand, or, and not\\n\\n'"
      ]
     },
     "execution_count": 21,
     "metadata": {},
     "output_type": "execute_result"
    }
   ],
   "source": [
    "'''\n",
    "2. What are the three different types of Boolean operators?\n",
    "\n",
    "-----------------------------------------------------------------\n",
    "Answer:\n",
    "\n",
    "and, or, and not\n",
    "\n",
    "'''"
   ]
  },
  {
   "cell_type": "code",
   "execution_count": 22,
   "metadata": {},
   "outputs": [
    {
     "data": {
      "text/plain": [
       "\"\\n3. Make a list of each Boolean operator's truth tables (i.e. every possible combination of Boolean \\nvalues for the operator and what it evaluate ).\\n\\n-----------------------------------------------------------------\\nAnswer:\\n\\nTrue and True is True.\\nTrue and False is False.\\nFalse and True is False.\\nFalse and False is False.\\n\\nTrue or True is True.\\nTrue or False is True.\\nFalse or True is True.\\nFalse or False is False.\\n\\nnot True is False.\\nnot False is True.\\n\\n\\n\""
      ]
     },
     "execution_count": 22,
     "metadata": {},
     "output_type": "execute_result"
    }
   ],
   "source": [
    "'''\n",
    "3. Make a list of each Boolean operator's truth tables (i.e. every possible combination of Boolean \n",
    "values for the operator and what it evaluate ).\n",
    "\n",
    "-----------------------------------------------------------------\n",
    "Answer:\n",
    "\n",
    "True and True is True.\n",
    "True and False is False.\n",
    "False and True is False.\n",
    "False and False is False.\n",
    "\n",
    "True or True is True.\n",
    "True or False is True.\n",
    "False or True is True.\n",
    "False or False is False.\n",
    "\n",
    "not True is False.\n",
    "not False is True.\n",
    "\n",
    "\n",
    "'''"
   ]
  },
  {
   "cell_type": "code",
   "execution_count": 23,
   "metadata": {},
   "outputs": [
    {
     "data": {
      "text/plain": [
       "'\\n4. What are the values of the following expressions?\\n(5 > 4) and (3 == 5)\\nnot (5 > 4)\\n(5 > 4) or (3 == 5)\\nnot ((5 > 4) or (3 == 5))\\n(True and True) and (True == False)\\n(not False) or (not True)\\n\\n-----------------------------------------------------------------\\nAnswer:\\n\\n(5 > 4) and (3 == 5) : False\\nnot (5 > 4) : False\\n(5 > 4) or (3 == 5) : True\\nnot ((5 > 4) or (3 == 5)) : False\\n(True and True) and (True == False) : False\\n(not False) or (not True) : True\\n\\n'"
      ]
     },
     "execution_count": 23,
     "metadata": {},
     "output_type": "execute_result"
    }
   ],
   "source": [
    "'''\n",
    "4. What are the values of the following expressions?\n",
    "(5 > 4) and (3 == 5)\n",
    "not (5 > 4)\n",
    "(5 > 4) or (3 == 5)\n",
    "not ((5 > 4) or (3 == 5))\n",
    "(True and True) and (True == False)\n",
    "(not False) or (not True)\n",
    "\n",
    "-----------------------------------------------------------------\n",
    "Answer:\n",
    "\n",
    "(5 > 4) and (3 == 5) : False\n",
    "not (5 > 4) : False\n",
    "(5 > 4) or (3 == 5) : True\n",
    "not ((5 > 4) or (3 == 5)) : False\n",
    "(True and True) and (True == False) : False\n",
    "(not False) or (not True) : True\n",
    "\n",
    "'''"
   ]
  },
  {
   "cell_type": "code",
   "execution_count": 24,
   "metadata": {},
   "outputs": [
    {
     "data": {
      "text/plain": [
       "'\\n5. What are the six comparison operators?\\n\\n-----------------------------------------------------------------\\nAnswer:\\n\\n==, !=, <, >, <=, and >=.\\n\\n'"
      ]
     },
     "execution_count": 24,
     "metadata": {},
     "output_type": "execute_result"
    }
   ],
   "source": [
    "'''\n",
    "5. What are the six comparison operators?\n",
    "\n",
    "-----------------------------------------------------------------\n",
    "Answer:\n",
    "\n",
    "==, !=, <, >, <=, and >=.\n",
    "\n",
    "'''"
   ]
  },
  {
   "cell_type": "code",
   "execution_count": 25,
   "metadata": {},
   "outputs": [
    {
     "data": {
      "text/plain": [
       "'\\n6. How do you tell the difference between the equal to and assignment operators?Describe a \\ncondition and when you would use one.\\n\\n-----------------------------------------------------------------\\nAnswer:\\n\\n== is the equal to operator that compares two values and evaluates to a Boolean,\\nwhile = is the assignment operator that stores a value in a variable\\n\\n'"
      ]
     },
     "execution_count": 25,
     "metadata": {},
     "output_type": "execute_result"
    }
   ],
   "source": [
    "'''\n",
    "6. How do you tell the difference between the equal to and assignment operators?Describe a \n",
    "condition and when you would use one.\n",
    "\n",
    "-----------------------------------------------------------------\n",
    "Answer:\n",
    "\n",
    "== is the equal to operator that compares two values and evaluates to a Boolean,\n",
    "while = is the assignment operator that stores a value in a variable\n",
    "\n",
    "'''"
   ]
  },
  {
   "cell_type": "code",
   "execution_count": 26,
   "metadata": {},
   "outputs": [
    {
     "data": {
      "text/plain": [
       "\"\\n7. Identify the three blocks in this code:\\nspam = 0\\nif spam == 10:\\nprint('eggs')\\nif spam > 5:\\nprint('bacon')\\nelse:\\nprint('ham')\\nprint('spam')\\nprint('spam')\\n\\n-----------------------------------------------------------------\\nAnswer:\\n\\nthree blocks are as below\\n\\nspam = 0\\nif spam == 10: <-------------\\nprint('eggs') \\nif spam > 5:   < ------------\\nprint('bacon')\\nelse:          < ------------\\nprint('ham')\\nprint('spam')\\nprint('spam')\\n\\n\\n\""
      ]
     },
     "execution_count": 26,
     "metadata": {},
     "output_type": "execute_result"
    }
   ],
   "source": [
    "'''\n",
    "7. Identify the three blocks in this code:\n",
    "spam = 0\n",
    "if spam == 10:\n",
    "print('eggs')\n",
    "if spam > 5:\n",
    "print('bacon')\n",
    "else:\n",
    "print('ham')\n",
    "print('spam')\n",
    "print('spam')\n",
    "\n",
    "-----------------------------------------------------------------\n",
    "Answer:\n",
    "\n",
    "three blocks are as below\n",
    "\n",
    "spam = 0\n",
    "if spam == 10: <-------------\n",
    "print('eggs') \n",
    "if spam > 5:   < ------------\n",
    "print('bacon')\n",
    "else:          < ------------\n",
    "print('ham')\n",
    "print('spam')\n",
    "print('spam')\n",
    "\n",
    "\n",
    "'''"
   ]
  },
  {
   "cell_type": "code",
   "execution_count": 27,
   "metadata": {},
   "outputs": [
    {
     "name": "stdout",
     "output_type": "stream",
     "text": [
      "Greetings!\n"
     ]
    }
   ],
   "source": [
    "'''\n",
    "8. Write code that prints Hello if 1 is stored in spam, prints Howdy if 2 is stored in spam, \n",
    "and prints Greetings! if anything else is stored in spam.\n",
    "\n",
    "-----------------------------------------------------------------\n",
    "Answer:\n",
    "\n",
    "'''\n",
    "\n",
    "\n",
    "spam = 5\n",
    "if spam == 1:\n",
    "    print('Hello')\n",
    "elif spam == 2:\n",
    "    print('Howdy')\n",
    "else:\n",
    "    print('Greetings!')\n",
    "\n",
    "\n"
   ]
  },
  {
   "cell_type": "code",
   "execution_count": 28,
   "metadata": {},
   "outputs": [
    {
     "data": {
      "text/plain": [
       "'\\n9.If your programme is stuck in an endless loop, what keys you’ll press?\\n\\n-----------------------------------------------------------------\\nAnswer:\\n\\nPress CTRL-C to stop a program stuck in an infinite loop.\\n\\n'"
      ]
     },
     "execution_count": 28,
     "metadata": {},
     "output_type": "execute_result"
    }
   ],
   "source": [
    "'''\n",
    "9.If your programme is stuck in an endless loop, what keys you’ll press?\n",
    "\n",
    "-----------------------------------------------------------------\n",
    "Answer:\n",
    "\n",
    "Press CTRL-C to stop a program stuck in an infinite loop.\n",
    "\n",
    "'''"
   ]
  },
  {
   "cell_type": "code",
   "execution_count": 29,
   "metadata": {},
   "outputs": [
    {
     "data": {
      "text/plain": [
       "'\\n10. How can you tell the difference between break and continue?\\n\\n-----------------------------------------------------------------\\nAnswer:\\n\\nBreak Statement\\n>The Break statement is used to exit from the loop constructs.\\n>The break statement is usually used with the switch statement, \\nand it can also use it within the while loop, do-while loop, or the for-loop.\\n>When a break statement is encountered then the control is exited from the loop construct immediately.\\n>Syntax: break;\\n\\nContinue Statement\\n>The continue statement is not used to exit from the loop constructs.\\n>The continue statement is not used with the switch statement, but it can \\nbe used within the while loop, do-while loop, or for-loop.\\n>When the continue statement is encountered then the control automatically passed from the beginning of the loop statement.\\n>Syntax: continue;\\n\\n'"
      ]
     },
     "execution_count": 29,
     "metadata": {},
     "output_type": "execute_result"
    }
   ],
   "source": [
    "'''\n",
    "10. How can you tell the difference between break and continue?\n",
    "\n",
    "-----------------------------------------------------------------\n",
    "Answer:\n",
    "\n",
    "Break Statement\n",
    ">The Break statement is used to exit from the loop constructs.\n",
    ">The break statement is usually used with the switch statement, \n",
    "and it can also use it within the while loop, do-while loop, or the for-loop.\n",
    ">When a break statement is encountered then the control is exited from the loop construct immediately.\n",
    ">Syntax: break;\n",
    "\n",
    "Continue Statement\n",
    ">The continue statement is not used to exit from the loop constructs.\n",
    ">The continue statement is not used with the switch statement, but it can \n",
    "be used within the while loop, do-while loop, or for-loop.\n",
    ">When the continue statement is encountered then the control automatically passed from the beginning of the loop statement.\n",
    ">Syntax: continue;\n",
    "\n",
    "'''"
   ]
  },
  {
   "cell_type": "code",
   "execution_count": 30,
   "metadata": {},
   "outputs": [
    {
     "data": {
      "text/plain": [
       "'\\n11. In a for loop, what is the difference between range(10), range(0, 10), and range(0, 10, 1)?\\n\\n-----------------------------------------------------------------\\nAnswer:\\n\\nrange(10) >> range of 10 numbers starting from 0 to 9\\nrange(0, 10) >> range of 10 numbers starting from 0 to 9, numbers starts with 0\\nrange(0, 10, 1) >> range of 10 numbers starting from 0 to 9, numbers starts with 0 and number increments in step of 1\\n\\n'"
      ]
     },
     "execution_count": 30,
     "metadata": {},
     "output_type": "execute_result"
    }
   ],
   "source": [
    "'''\n",
    "11. In a for loop, what is the difference between range(10), range(0, 10), and range(0, 10, 1)?\n",
    "\n",
    "-----------------------------------------------------------------\n",
    "Answer:\n",
    "\n",
    "range(10) >> range of 10 numbers starting from 0 to 9\n",
    "range(0, 10) >> range of 10 numbers starting from 0 to 9, numbers starts with 0\n",
    "range(0, 10, 1) >> range of 10 numbers starting from 0 to 9, numbers starts with 0 and number increments in step of 1\n",
    "\n",
    "'''"
   ]
  },
  {
   "cell_type": "code",
   "execution_count": 31,
   "metadata": {},
   "outputs": [
    {
     "name": "stdout",
     "output_type": "stream",
     "text": [
      "1\n",
      "2\n",
      "3\n",
      "4\n",
      "5\n",
      "6\n",
      "7\n",
      "8\n",
      "9\n",
      "10\n",
      "1\n",
      "2\n",
      "3\n",
      "4\n",
      "5\n",
      "6\n",
      "7\n",
      "8\n",
      "9\n",
      "10\n"
     ]
    }
   ],
   "source": [
    "'''\n",
    "12. Write a short program that prints the numbers 1 to 10 using a for loop. \n",
    "Then write an equivalent program that prints the numbers 1 to 10 using a while loop.\n",
    "-----------------------------------------------------------------\n",
    "Answer:\n",
    "'''\n",
    "\n",
    "for i in range(10):\n",
    "    print(i+1)\n",
    "    \n",
    "i = 0\n",
    "while(i<10):\n",
    "    print(i+1)\n",
    "    i = i + 1    \n"
   ]
  },
  {
   "cell_type": "code",
   "execution_count": 32,
   "metadata": {},
   "outputs": [
    {
     "data": {
      "text/plain": [
       "'\\n13. If you had a function named bacon() inside a module named spam, how would you call it after importing spam?\\n\\n-----------------------------------------------------------------\\nAnswer:\\n\\nimport spam\\nspam.bacon()\\n\\n'"
      ]
     },
     "execution_count": 32,
     "metadata": {},
     "output_type": "execute_result"
    }
   ],
   "source": [
    "'''\n",
    "13. If you had a function named bacon() inside a module named spam, how would you call it after importing spam?\n",
    "\n",
    "-----------------------------------------------------------------\n",
    "Answer:\n",
    "\n",
    "import spam\n",
    "spam.bacon()\n",
    "\n",
    "'''"
   ]
  },
  {
   "cell_type": "code",
   "execution_count": null,
   "metadata": {},
   "outputs": [],
   "source": []
  }
 ],
 "metadata": {
  "kernelspec": {
   "display_name": "Python 3",
   "language": "python",
   "name": "python3"
  },
  "language_info": {
   "codemirror_mode": {
    "name": "ipython",
    "version": 3
   },
   "file_extension": ".py",
   "mimetype": "text/x-python",
   "name": "python",
   "nbconvert_exporter": "python",
   "pygments_lexer": "ipython3",
   "version": "3.7.4"
  }
 },
 "nbformat": 4,
 "nbformat_minor": 2
}
